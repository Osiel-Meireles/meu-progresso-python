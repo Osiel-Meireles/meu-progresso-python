{
 "cells": [
  {
   "cell_type": "markdown",
   "id": "755dbe28",
   "metadata": {},
   "source": [
    "### O INÍCIO DE TUDO! O FAMOSO 'HELLO WORLD'."
   ]
  },
  {
   "cell_type": "code",
   "execution_count": null,
   "id": "abdca102",
   "metadata": {},
   "outputs": [],
   "source": [
    "print('Hello World!')"
   ]
  },
  {
   "cell_type": "markdown",
   "id": "4253a9a1",
   "metadata": {},
   "source": [
    "### CAPTURANDO MEU PRIMEIRO INPUT E IMPRIMINDO ELE NA TELA."
   ]
  },
  {
   "cell_type": "code",
   "execution_count": null,
   "id": "03719656",
   "metadata": {},
   "outputs": [],
   "source": [
    "x = input('Digite um número: ')\n",
    "print(f'O número informado foi {x}.')"
   ]
  },
  {
   "cell_type": "markdown",
   "id": "834a66eb",
   "metadata": {},
   "source": [
    "### FAZENDO MINHA PRIMEIRA SOMA EM PYTHON."
   ]
  },
  {
   "cell_type": "code",
   "execution_count": null,
   "id": "e39d9a03",
   "metadata": {},
   "outputs": [],
   "source": [
    "n1 = int(input('Digite um número: '))\n",
    "n2 = int(input('Digite outro número: '))\n",
    "soma = n1 + n2\n",
    "print(f'A soma dos números {n1} e {n2} é igual a: {soma}.')"
   ]
  },
  {
   "cell_type": "markdown",
   "id": "8827b5f8",
   "metadata": {},
   "source": [
    "### CALCULANDO MÉDIA ARITMÉTICA PELA PRIMEIRA VEZ."
   ]
  },
  {
   "cell_type": "code",
   "execution_count": null,
   "id": "b56283cf",
   "metadata": {},
   "outputs": [],
   "source": [
    "notas = []\n",
    "print('Bem vindo ao assitente de média escolar! Digite uma nota por vez e pressione ENTER.')\n",
    "while len(notas) < 4:\n",
    "    nota = int(input('Digite a nota: '))\n",
    "    notas.append(nota)\n",
    "media = sum(notas) / len(notas)\n",
    "if media > 7:\n",
    "    print(f'Você passou! A sua média foi de {media} pontos!')\n",
    "else:\n",
    "    print(f'Infelizmente você não passou. A sua média foi de {media} pontos.')"
   ]
  },
  {
   "cell_type": "markdown",
   "id": "7202f838",
   "metadata": {},
   "source": [
    "### REALIZANDO CONVERSÃO DE METROS PARA CENTÍMETROS  E VICE VERSA."
   ]
  },
  {
   "cell_type": "code",
   "execution_count": null,
   "id": "00dad72a",
   "metadata": {},
   "outputs": [],
   "source": [
    "linha = '-' * 50\n",
    "boasVindas = 'Bem vindo ao conversor de metros para centímetros!'\n",
    "print(boasVindas.ljust(50))\n",
    "print(linha)\n",
    "v = int(input('''1 - Converter Metros para Centímetros\n",
    "2 - Converter Centímetros para Metros\n",
    "-------------------------------------\n",
    "\n",
    "Qual conversão você gostaria de fazer?'''))\n",
    "if v == 1:\n",
    "    metro = int(input('Digite o número referente ao(s) metro(s) que deseja converter: '))\n",
    "    convertCentimetro = metro * 100\n",
    "    print(f'{metro} metros equivale a {convertCentimetro} centímetros.')\n",
    "elif v == 2:\n",
    "    centimetro = int(input('Digite o número referente ao centímetros que deseja converter: '))\n",
    "    convertMetro = centimetro / 100\n",
    "    print(f'{centimetro} centimetros equivalem a {convertMetro} metros.')\n",
    "else:\n",
    "    print('Essa opção não existe.')"
   ]
  },
  {
   "cell_type": "markdown",
   "id": "10a72d49",
   "metadata": {},
   "source": [
    "### CALCULANDO OS GANHOS MENSAIS DE UM INDIVÍDUO QUE GANHA POR HORA."
   ]
  },
  {
   "cell_type": "code",
   "execution_count": null,
   "id": "ab2b95e2",
   "metadata": {},
   "outputs": [],
   "source": [
    "print('Bem vindo ao assistente de cálculo de ganhos mensais!\\n')\n",
    "hora = int(input('Quantas horas você trabalha por dia? '))\n",
    "dias = int(input('Quantos dias por mês você trabalha? '))\n",
    "cash = int(input('Quanto você ganha por hora? '))\n",
    "calculoRenda = (hora * cash) * dias\n",
    "print(f'De acordo com os seus dados informados, trabalhando {hora} horas/dia durante {dias} dias')\n",
    "print(f'Você terá um ganho de R${calculoRenda} por mês.')\n"
   ]
  },
  {
   "cell_type": "markdown",
   "id": "355a0238",
   "metadata": {},
   "source": [
    "### CALCULANDO OS GANHOS MENSAIS COM OS DESCONTOS DE IR E INSS EMBUTIDOS"
   ]
  },
  {
   "cell_type": "code",
   "execution_count": 24,
   "id": "d5f82b82",
   "metadata": {},
   "outputs": [
    {
     "name": "stdout",
     "output_type": "stream",
     "text": [
      " - OLÁ, SEJA BEM VINDO À CALCULADORA DE GANHOS MENSAIS! -\n",
      "---------------------------------------------------------\n",
      "Informe os dados necessários para que possamos calcular o seu\n",
      "ganho, já com os descontos vigentes.\n",
      "  \n",
      "Digite o seu nome: osiel\n",
      "Digite o seu salário bruto: 1890\n",
      "INSS: 170.00\n",
      "Imposto de Renda: ISENTO\n",
      "Salário líquido: 1720\n"
     ]
    }
   ],
   "source": [
    "print(''' - OLÁ, SEJA BEM VINDO À CALCULADORA DE GANHOS MENSAIS! -\n",
    "---------------------------------------------------------\n",
    "Informe os dados necessários para que possamos calcular o seu\n",
    "ganho, já com os descontos vigentes.\n",
    "  ''')\n",
    "nome = input('Digite o seu nome: ')\n",
    "salBruto = int(input('Digite o seu salário bruto: '))\n",
    "\n",
    "def calcINSS(salario):\n",
    "    if salario <= 1212:\n",
    "        return salario * 0.075\n",
    "    elif salario >= 1212 and salario <= 2427.79:\n",
    "        return salario * 0.09\n",
    "    elif salario >= 2427.79 and salario <= 3641.69:\n",
    "        return salario * 0.12\n",
    "    else:\n",
    "        return salario * 0.14\n",
    "def calcIRRF(salario):\n",
    "    if salario < 1903.99:\n",
    "        return 0\n",
    "    elif salario >= 1903.99 and salario <= 2826.65:\n",
    "        return salario * 0.075\n",
    "    elif salario >= 2826.66 and salario <= 3751.05:\n",
    "        return salario * 0.15\n",
    "    elif salario >= 3751.05 and salario <= 4664.68:\n",
    "        return salario * 0.225\n",
    "    else:\n",
    "        return salario * 0.275\n",
    "\n",
    "inss = int(calcINSS(salBruto))\n",
    "print(f'INSS: {inss:.2f}')\n",
    "\n",
    "irrf = int(calcIRRF(salBruto))\n",
    "if irrf == 0:\n",
    "    print('Imposto de Renda: ISENTO')\n",
    "else:\n",
    "    print(f'Imposto de Renda: {irrf}')   \n",
    "\n",
    "desconto = inss + irrf\n",
    "liquido = salBruto - desconto\n",
    "print(f'Salário líquido: {liquido}')"
   ]
  },
  {
   "cell_type": "code",
   "execution_count": 2,
   "id": "2f35df5a",
   "metadata": {},
   "outputs": [
    {
     "data": {
      "text/plain": [
       "90.0"
      ]
     },
     "execution_count": 2,
     "metadata": {},
     "output_type": "execute_result"
    }
   ],
   "source": [
    "calcInss(1200, 0.075)"
   ]
  }
 ],
 "metadata": {
  "kernelspec": {
   "display_name": "Python 3 (ipykernel)",
   "language": "python",
   "name": "python3"
  },
  "language_info": {
   "codemirror_mode": {
    "name": "ipython",
    "version": 3
   },
   "file_extension": ".py",
   "mimetype": "text/x-python",
   "name": "python",
   "nbconvert_exporter": "python",
   "pygments_lexer": "ipython3",
   "version": "3.9.12"
  }
 },
 "nbformat": 4,
 "nbformat_minor": 5
}
